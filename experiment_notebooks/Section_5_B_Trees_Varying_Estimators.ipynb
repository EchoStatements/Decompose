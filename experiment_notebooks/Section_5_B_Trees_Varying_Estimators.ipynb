{
 "cells": [
  {
   "cell_type": "markdown",
   "metadata": {
    "pycharm": {
     "name": "#%% md\n"
    }
   },
   "source": [
    "# Code for Section 6: Trees and Forests\n",
    "\n",
    "This notebook is split into two distinct portions: training and analysis. Training saves all the data required for analysis.\n",
    "This means that the two parts do not need to be run during the same Jupyter session.\n",
    "\n",
    "This notebook generates Figure 15 from https://arxiv.org/abs/2301.03962v1\n"
   ]
  },
  {
   "cell_type": "code",
   "execution_count": 1,
   "metadata": {
    "pycharm": {
     "name": "#%%\n"
    }
   },
   "outputs": [],
   "source": [
    "# PARAMETERS THAT NEED TO BE SET IN BOTH PARTS\n",
    "N_TRIALS = 100\n",
    "DATASET_NAME = \"mnist\""
   ]
  },
  {
   "cell_type": "markdown",
   "metadata": {
    "pycharm": {
     "name": "#%% md\n"
    }
   },
   "source": [
    "\n",
    "\n",
    "\n",
    "## Setting up variables"
   ]
  },
  {
   "cell_type": "code",
   "execution_count": 2,
   "metadata": {
    "pycharm": {
     "name": "#%%\n"
    }
   },
   "outputs": [],
   "source": [
    "import matplotlib.pyplot as plt\n",
    "%matplotlib inline\n",
    "\n",
    "import time\n",
    "import os\n",
    "import numpy as np\n",
    "from sklearn.tree import DecisionTreeClassifier\n",
    "from decompose.data_utils import load_standard_dataset, load_data\n",
    "from decompose import BVDExperiment\n",
    "\n",
    "# Because these experiments take longer to run, we now use logging to keep track of them,\n",
    "# so we can continue to monitor progress even after disconnection\n",
    "import logging\n",
    "\n",
    "# Check that directories exist for experiment results/data/logs\n",
    "if not os.path.exists(\"images\"):\n",
    "    os.mkdir(\"images\")\n",
    "if not os.path.exists(\"data\"):\n",
    "    os.mkdir(\"data\")\n",
    "if not os.path.exists(\"logs\"):\n",
    "    os.mkdir(\"logs\")\n",
    "if not os.path.exists(\"decomposition_objects\"):\n",
    "    os.mkdir(\"decomposition_objects\")\n",
    "\n",
    "logger = logging.getLogger()\n",
    "logger_filename = time.strftime(\"%y_%m_%d_%H_%M_%S\")\n",
    "logging.basicConfig(level=logging.DEBUG,\n",
    "                    format=\"%(asctime)s - %(name)s - %(levelname)s - %(message)s\",\n",
    "                    filename=f\"logs/section4_trees_{logger_filename}.log\",\n",
    "                    datefmt=\"%Y/%m/%d %H:%M:%S\")\n",
    "for logger_name in logging.root.manager.loggerDict:\n",
    "    logging.getLogger(logger_name).setLevel(logging.CRITICAL)\n",
    "logging.getLogger(\"decompose.experiments\").setLevel(logging.DEBUG)\n",
    "logging.debug(\"New Notebook Started\")\n",
    "stream_handler = logging.StreamHandler\n",
    "\n",
    "# Models are combined using the geometric bagging classifier. This is not part of the library proper\n",
    "# so is imported using a relative import.\n",
    "import sys\n",
    "sys.path.append(\"../models/\")\n",
    "from bagging_ensembles import GeometricBaggingClassifier\n"
   ]
  },
  {
   "cell_type": "code",
   "execution_count": 3,
   "metadata": {
    "pycharm": {
     "name": "#%%\n"
    }
   },
   "outputs": [],
   "source": [
    "\n",
    "# Set up data and parameters\n",
    "\n",
    "np.random.seed(0)\n",
    "# For mnist, we use the default split on the data\n",
    "frac_training = None if DATASET_NAME == \"mnist\" else 0.75\n",
    "\n",
    "train_data, train_labels, test_data, test_labels = load_standard_dataset(DATASET_NAME, frac_training=frac_training)\n",
    "PARAMETER_NAME = \"n_estimators\"\n",
    "PARAMETER_VALUES = range(1, 21, 1)\n",
    "\n",
    "# Set up models\n",
    "results_objects = {}\n",
    "\n",
    "constrained_bagging = GeometricBaggingClassifier(\n",
    "                                                 base_estimator=DecisionTreeClassifier(max_depth=5),\n",
    "                                                 warm_start=True,\n",
    "                                                 smoothing_factor=1e-9)\n",
    "\n",
    "unconstrained_bagging = GeometricBaggingClassifier(\n",
    "                                      base_estimator=DecisionTreeClassifier(),\n",
    "                                      warm_start=True,\n",
    "                                      smoothing_factor=1e-9)\n",
    "\n",
    "random_forest = GeometricBaggingClassifier(\n",
    "                                      base_estimator=DecisionTreeClassifier(max_features='sqrt'),\n",
    "                                      warm_start=True,\n",
    "                                      smoothing_factor=1e-9)\n",
    "\n",
    "models = {\"Bagging (max depth 5)\": constrained_bagging,\n",
    "          \"Bagging (unconstrained)\": unconstrained_bagging,\n",
    "          \"Random Forest\": random_forest }\n",
    "\n"
   ]
  },
  {
   "cell_type": "markdown",
   "metadata": {
    "pycharm": {
     "name": "#%% md\n"
    }
   },
   "source": [
    "# Part A: Training\n",
    "\n",
    "## Training the Models"
   ]
  },
  {
   "cell_type": "code",
   "execution_count": null,
   "metadata": {
    "pycharm": {
     "name": "#%%\n"
    }
   },
   "outputs": [],
   "source": []
  },
  {
   "cell_type": "code",
   "execution_count": null,
   "metadata": {
    "pycharm": {
     "name": "#%%\n"
    }
   },
   "outputs": [
    {
     "name": "stderr",
     "output_type": "stream",
     "text": [
      "100%|██████████| 20/20 [4:25:52<00:00, 797.61s/it]  \n",
      " 65%|██████▌   | 13/20 [5:09:45<3:07:54, 1610.61s/it]"
     ]
    }
   ],
   "source": [
    "for name, model in models.items():\n",
    "    np.random.seed(0)\n",
    "    # Create experiment object and define parameter to vary\n",
    "    experiment = BVDExperiment(model,\n",
    "                               \"cross_entropy\",\n",
    "                               parameter_name=PARAMETER_NAME,\n",
    "                               parameter_values=PARAMETER_VALUES,\n",
    "                               save_decompositions=True,\n",
    "                               per_trial_test_error=True,\n",
    "                               decompositions_prefix=f\"decomposition_objects/{name}_v2\")\n",
    "    # Run experiment on data\n",
    "    results = experiment.run_experiment(train_data, train_labels, test_data, test_labels, n_trials=N_TRIALS, n_test_splits=2)\n",
    "    results_objects[name] = results\n",
    "    results.save_results(f\"data/Fig4_{name}_{DATASET_NAME}_results_{N_TRIALS}_v2.pkl\")"
   ]
  },
  {
   "cell_type": "code",
   "execution_count": 17,
   "metadata": {
    "pycharm": {
     "name": "#%%\n"
    }
   },
   "outputs": [
    {
     "name": "stdout",
     "output_type": "stream",
     "text": [
      "Cross-entropy (validation,test)  [[1.06613359 1.09575896]]\n",
      "0-1 loss (test)  [0.32794]\n"
     ]
    }
   ],
   "source": [
    "# We also a train a single tree model in order to get the test error\n",
    "\n",
    "decision_tree = DecisionTreeClassifier(max_depth=5)\n",
    "np.random.seed(0)\n",
    "\n",
    "# Create experiment object and define parameter to vary\n",
    "experiment = BVDExperiment(decision_tree,\n",
    "                           loss=\"cross_entropy\")\n",
    "\n",
    "# Run experiment on data\n",
    "results = experiment.run_experiment(train_data, train_labels, test_data, test_labels, n_trials=N_TRIALS, n_test_splits=2)\n",
    "results_objects[name] = results\n",
    "\n",
    "results.save_results(f\"data/Fig4_decision_tree_{DATASET_NAME}_results_{N_TRIALS}.pkl\")\n",
    "\n",
    "print('Cross-entropy (validation,test) ', results.ensemble_risk)\n",
    "\n",
    "print('0-1 loss (test) ' , results.test_error[:,1])"
   ]
  },
  {
   "cell_type": "code",
   "execution_count": null,
   "metadata": {
    "pycharm": {
     "name": "#%%\n"
    }
   },
   "outputs": [],
   "source": []
  },
  {
   "cell_type": "code",
   "execution_count": null,
   "metadata": {
    "pycharm": {
     "name": "#%%\n"
    }
   },
   "outputs": [],
   "source": []
  },
  {
   "cell_type": "markdown",
   "metadata": {
    "pycharm": {
     "name": "#%% md\n"
    }
   },
   "source": [
    "# Part B: Analysis\n",
    "\n",
    "## Set up for Analysis"
   ]
  },
  {
   "cell_type": "code",
   "execution_count": 4,
   "metadata": {
    "pycharm": {
     "name": "#%%\n"
    }
   },
   "outputs": [
    {
     "name": "stdout",
     "output_type": "stream",
     "text": [
      "objects loaded\n"
     ]
    }
   ],
   "source": [
    "\n",
    "import matplotlib\n",
    "import matplotlib.pyplot as plt\n",
    "from sklearn.metrics import zero_one_loss\n",
    "from tqdm import tqdm\n",
    "from functools import partial\n",
    "import numpy as np\n",
    "\n",
    "from decompose.experiments import load_results\n",
    "\n",
    "matplotlib.rc('xtick', labelsize=14)\n",
    "matplotlib.rc('ytick', labelsize=14)\n",
    "\n",
    "models = [\"Bagging (max depth 5)\",\n",
    "          \"Bagging (unconstrained)\",\n",
    "          \"Random Forest\"]\n",
    "\n",
    "\n",
    "# Load results objects from experiment\n",
    "results_objects = {}\n",
    "for name in models:\n",
    "    results_objects[name] = load_results(f\"data/Fig4_{name}_{DATASET_NAME}_results_{N_TRIALS}_v2.pkl\")\n",
    "\n",
    "PARAMETER_VALUES = results_objects[\"Bagging (unconstrained)\"].parameter_values\n",
    "\n",
    "VAL_IDX = 0\n",
    "TEST_IDX = 1\n",
    "\n",
    "\n",
    "bag_results = results_objects[\"Bagging (unconstrained)\"]\n",
    "rf_results = results_objects[\"Random Forest\"]\n",
    "\n",
    "\n",
    "# Set up functions (with no arguments) to retrieve decomposition_objects from results\n",
    "decomposition_objects = [partial(bag_results.get_decomposition_object, idx, TEST_IDX) for idx in range(len(rf_results.parameter_values))]\n",
    "decomposition_objects += [partial(rf_results.get_decomposition_object, idx, TEST_IDX) for idx in range(len(rf_results.parameter_values))]\n",
    "\n",
    "print(\"objects loaded\")\n",
    "diversities = np.concatenate([bag_results.diversity[:,VAL_IDX], rf_results.diversity[:,VAL_IDX]])\n"
   ]
  },
  {
   "cell_type": "markdown",
   "metadata": {
    "pycharm": {
     "name": "#%% md\n"
    }
   },
   "source": [
    "## Figure 14: Diversity Scatter Plots"
   ]
  },
  {
   "cell_type": "code",
   "execution_count": 5,
   "metadata": {
    "pycharm": {
     "name": "#%%\n"
    }
   },
   "outputs": [
    {
     "name": "stderr",
     "output_type": "stream",
     "text": [
      "100%|██████████| 40/40 [03:10<00:00,  4.76s/it]\n"
     ]
    }
   ],
   "source": [
    "\n",
    "ambiguities_list = []\n",
    "ensemble_errors_list = []\n",
    "average_individual_errors_list = []\n",
    "\n",
    "\n",
    "for decomp_idx, decomp in enumerate(tqdm(decomposition_objects)):\n",
    "    decomp = decomp()\n",
    "    pred = decomp.pred\n",
    "    labels = decomp.labels\n",
    "\n",
    "    predicted_class = np.argmax(decomp.pred, axis=3)\n",
    "    \n",
    "    average_individual_errors = np.zeros((pred.shape[0]))\n",
    "\n",
    "    for i in range(pred.shape[1]):\n",
    "        for j in range(pred.shape[0]):\n",
    "            average_individual_errors[j] += 1 / pred.shape[1] * zero_one_loss(labels, predicted_class[j, i, :])\n",
    "    average_individual_errors_list.append(average_individual_errors)\n",
    "    # Stuff for ensemble error\n",
    "    ensemble_errors = np.zeros((pred.shape[0]))\n",
    "    ensemble_preds = decomp._inverse_generator_gradient(\n",
    "                                        decomp.etas.mean(axis=1, keepdims=False))\n",
    "    \n",
    "    ensemble_predicted_class = np.argmax(ensemble_preds, axis=2)\n",
    "    for j in range(pred.shape[0]):\n",
    "        ensemble_errors[j] = zero_one_loss(labels, ensemble_predicted_class[j, :])\n",
    "    ensemble_errors_list.append(ensemble_errors)\n",
    "\n"
   ]
  },
  {
   "cell_type": "code",
   "execution_count": 6,
   "metadata": {
    "pycharm": {
     "name": "#%%\n"
    }
   },
   "outputs": [
    {
     "name": "stdout",
     "output_type": "stream",
     "text": [
      "Bagging R^2 0.9966102158287015\n",
      "RF R^2 0.9982925669075523\n"
     ]
    },
    {
     "data": {
      "image/png": "[encoded data removed]",
      "text/plain": [
       "<Figure size 500x500 with 1 Axes>"
      ]
     },
     "metadata": {},
     "output_type": "display_data"
    }
   ],
   "source": [
    "x = np.array(diversities)\n",
    "y = np.zeros_like(diversities)\n",
    "import matplotlib.ticker as plticker\n",
    "from scipy.stats import pearsonr\n",
    "\n",
    "\n",
    "for idx in range(len(diversities)):\n",
    "    y[idx] = (average_individual_errors_list[idx] - ensemble_errors_list[idx]).mean()\n",
    "\n",
    "\n",
    "matplotlib.rc('xtick', labelsize=11)\n",
    "matplotlib.rc('ytick', labelsize=11)\n",
    "\n",
    "\n",
    "# fig, ax = plt.subplots(figsize=(8,4))\n",
    "fig, ax = plt.subplots(figsize=(5, 5))\n",
    "\n",
    "bagging_coeff = (np.corrcoef(x[1:20], y[1:20])**2)[0,1]\n",
    "print(f\"Bagging R^2 {bagging_coeff}\")\n",
    "rf_coeff = (np.corrcoef(x[21:40], y[21:40])**2)[0,1]\n",
    "print(f\"RF R^2 {rf_coeff}\")\n",
    "\n",
    "ax.scatter(x[1:20], y[1:20], c=range(21,40), label=\"bagging\", cmap=\"Blues\", marker=\"^\", vmin=1)\n",
    "ax.scatter(x[21:], y[21:], c=range(21,40), label=\"random forests\", cmap=\"YlOrBr\", vmin=1)\n",
    "ax.set_xlabel(\"diversity\", fontsize=15)\n",
    "ax.set_ylabel(\"average individual error\\n $-$ ensemble error\", fontsize=15)\n",
    "ax.legend(prop = {\"size\" : 14})\n",
    "#FONTSIZE = 12\n",
    "FONTSIZE=12\n",
    "\n",
    "for idx in [1, 2, 3, 4]:\n",
    "    ax.annotate(f\"$M={idx + 1}$\", (x[idx] + 0.05, y[idx] - 0.003 ), fontsize=FONTSIZE)\n",
    "    ax.annotate(f\"$M={idx + 1}$\", (x[idx + 20] + 0.05, y[idx + 20] - 0.003), fontsize=FONTSIZE )\n",
    "    \n",
    "for idx in [19]:\n",
    "    ax.annotate(f\"$M={idx + 1}$\", (x[idx] + 0.035, y[idx] - 0.0015 ), fontsize=FONTSIZE)\n",
    "    ax.annotate(f\"$M={idx + 1}$\", (x[idx + 20] + 0.055, y[idx + 20] - 0.0015 ), fontsize=FONTSIZE)\n",
    "    \n",
    "\n",
    "loc = plticker.MultipleLocator(base=.5)\n",
    "ax.xaxis.set_major_locator(loc)\n",
    "ax.tick_params(axis=\"x\", labelsize= 12)\n",
    "ax.tick_params(axis=\"y\", labelsize= 12)\n",
    "ax.set_xlim(right=5)\n",
    "ax.set_box_aspect(1)\n",
    "\n",
    "plt.savefig(f\"images/scatter_diversity_{DATASET_NAME}_{N_TRIALS}_trees_v2.pdf\",  bbox_inches=\"tight\")\n",
    "\n"
   ]
  },
  {
   "cell_type": "code",
   "execution_count": null,
   "metadata": {
    "pycharm": {
     "name": "#%%\n"
    }
   },
   "outputs": [],
   "source": []
  }
 ],
 "metadata": {
  "kernelspec": {
   "display_name": "Python 3 (ipykernel)",
   "language": "python",
   "name": "python3"
  },
  "language_info": {
   "codemirror_mode": {
    "name": "ipython",
    "version": 3
   },
   "file_extension": ".py",
   "mimetype": "text/x-python",
   "name": "python",
   "nbconvert_exporter": "python",
   "pygments_lexer": "ipython3",
   "version": "3.10.4"
  }
 },
 "nbformat": 4,
 "nbformat_minor": 1
}